{
 "cells": [
  {
   "cell_type": "code",
   "execution_count": 1,
   "id": "e35ed753-2c2e-4f95-a6df-52b6a6b40d7d",
   "metadata": {
    "tags": []
   },
   "outputs": [],
   "source": [
    "!source my_env/bin/activate"
   ]
  },
  {
   "cell_type": "code",
   "execution_count": 1,
   "id": "bd238295-404c-48a4-97f0-cbbdde056648",
   "metadata": {
    "tags": []
   },
   "outputs": [
    {
     "name": "stdout",
     "output_type": "stream",
     "text": [
      "Requirement already satisfied: google-cloud-discoveryengine in /opt/conda/lib/python3.10/site-packages (0.13.4)\n",
      "Requirement already satisfied: google-api-core!=2.0.*,!=2.1.*,!=2.10.*,!=2.2.*,!=2.3.*,!=2.4.*,!=2.5.*,!=2.6.*,!=2.7.*,!=2.8.*,!=2.9.*,<3.0.0dev,>=1.34.1 in /opt/conda/lib/python3.10/site-packages (from google-api-core[grpc]!=2.0.*,!=2.1.*,!=2.10.*,!=2.2.*,!=2.3.*,!=2.4.*,!=2.5.*,!=2.6.*,!=2.7.*,!=2.8.*,!=2.9.*,<3.0.0dev,>=1.34.1->google-cloud-discoveryengine) (2.24.1)\n",
      "Requirement already satisfied: google-auth!=2.24.0,!=2.25.0,<3.0.0dev,>=2.14.1 in /opt/conda/lib/python3.10/site-packages (from google-cloud-discoveryengine) (2.32.0)\n",
      "Requirement already satisfied: proto-plus<2.0.0dev,>=1.22.3 in /opt/conda/lib/python3.10/site-packages (from google-cloud-discoveryengine) (1.24.0)\n",
      "Requirement already satisfied: protobuf!=4.21.0,!=4.21.1,!=4.21.2,!=4.21.3,!=4.21.4,!=4.21.5,<6.0.0dev,>=3.20.2 in /opt/conda/lib/python3.10/site-packages (from google-cloud-discoveryengine) (3.20.3)\n",
      "Requirement already satisfied: googleapis-common-protos<2.0.dev0,>=1.56.2 in /opt/conda/lib/python3.10/site-packages (from google-api-core!=2.0.*,!=2.1.*,!=2.10.*,!=2.2.*,!=2.3.*,!=2.4.*,!=2.5.*,!=2.6.*,!=2.7.*,!=2.8.*,!=2.9.*,<3.0.0dev,>=1.34.1->google-api-core[grpc]!=2.0.*,!=2.1.*,!=2.10.*,!=2.2.*,!=2.3.*,!=2.4.*,!=2.5.*,!=2.6.*,!=2.7.*,!=2.8.*,!=2.9.*,<3.0.0dev,>=1.34.1->google-cloud-discoveryengine) (1.63.2)\n",
      "Requirement already satisfied: requests<3.0.0.dev0,>=2.18.0 in /opt/conda/lib/python3.10/site-packages (from google-api-core!=2.0.*,!=2.1.*,!=2.10.*,!=2.2.*,!=2.3.*,!=2.4.*,!=2.5.*,!=2.6.*,!=2.7.*,!=2.8.*,!=2.9.*,<3.0.0dev,>=1.34.1->google-api-core[grpc]!=2.0.*,!=2.1.*,!=2.10.*,!=2.2.*,!=2.3.*,!=2.4.*,!=2.5.*,!=2.6.*,!=2.7.*,!=2.8.*,!=2.9.*,<3.0.0dev,>=1.34.1->google-cloud-discoveryengine) (2.32.3)\n",
      "Requirement already satisfied: grpcio<2.0dev,>=1.33.2 in /opt/conda/lib/python3.10/site-packages (from google-api-core[grpc]!=2.0.*,!=2.1.*,!=2.10.*,!=2.2.*,!=2.3.*,!=2.4.*,!=2.5.*,!=2.6.*,!=2.7.*,!=2.8.*,!=2.9.*,<3.0.0dev,>=1.34.1->google-cloud-discoveryengine) (1.51.3)\n",
      "Requirement already satisfied: grpcio-status<2.0.dev0,>=1.33.2 in /opt/conda/lib/python3.10/site-packages (from google-api-core[grpc]!=2.0.*,!=2.1.*,!=2.10.*,!=2.2.*,!=2.3.*,!=2.4.*,!=2.5.*,!=2.6.*,!=2.7.*,!=2.8.*,!=2.9.*,<3.0.0dev,>=1.34.1->google-cloud-discoveryengine) (1.48.0)\n",
      "Requirement already satisfied: cachetools<6.0,>=2.0.0 in /opt/conda/lib/python3.10/site-packages (from google-auth!=2.24.0,!=2.25.0,<3.0.0dev,>=2.14.1->google-cloud-discoveryengine) (4.2.4)\n",
      "Requirement already satisfied: pyasn1-modules>=0.2.1 in /opt/conda/lib/python3.10/site-packages (from google-auth!=2.24.0,!=2.25.0,<3.0.0dev,>=2.14.1->google-cloud-discoveryengine) (0.4.0)\n",
      "Requirement already satisfied: rsa<5,>=3.1.4 in /opt/conda/lib/python3.10/site-packages (from google-auth!=2.24.0,!=2.25.0,<3.0.0dev,>=2.14.1->google-cloud-discoveryengine) (4.9)\n",
      "Requirement already satisfied: pyasn1<0.7.0,>=0.4.6 in /opt/conda/lib/python3.10/site-packages (from pyasn1-modules>=0.2.1->google-auth!=2.24.0,!=2.25.0,<3.0.0dev,>=2.14.1->google-cloud-discoveryengine) (0.6.0)\n",
      "Requirement already satisfied: charset-normalizer<4,>=2 in /opt/conda/lib/python3.10/site-packages (from requests<3.0.0.dev0,>=2.18.0->google-api-core!=2.0.*,!=2.1.*,!=2.10.*,!=2.2.*,!=2.3.*,!=2.4.*,!=2.5.*,!=2.6.*,!=2.7.*,!=2.8.*,!=2.9.*,<3.0.0dev,>=1.34.1->google-api-core[grpc]!=2.0.*,!=2.1.*,!=2.10.*,!=2.2.*,!=2.3.*,!=2.4.*,!=2.5.*,!=2.6.*,!=2.7.*,!=2.8.*,!=2.9.*,<3.0.0dev,>=1.34.1->google-cloud-discoveryengine) (3.3.2)\n",
      "Requirement already satisfied: idna<4,>=2.5 in /opt/conda/lib/python3.10/site-packages (from requests<3.0.0.dev0,>=2.18.0->google-api-core!=2.0.*,!=2.1.*,!=2.10.*,!=2.2.*,!=2.3.*,!=2.4.*,!=2.5.*,!=2.6.*,!=2.7.*,!=2.8.*,!=2.9.*,<3.0.0dev,>=1.34.1->google-api-core[grpc]!=2.0.*,!=2.1.*,!=2.10.*,!=2.2.*,!=2.3.*,!=2.4.*,!=2.5.*,!=2.6.*,!=2.7.*,!=2.8.*,!=2.9.*,<3.0.0dev,>=1.34.1->google-cloud-discoveryengine) (3.7)\n",
      "Requirement already satisfied: urllib3<3,>=1.21.1 in /opt/conda/lib/python3.10/site-packages (from requests<3.0.0.dev0,>=2.18.0->google-api-core!=2.0.*,!=2.1.*,!=2.10.*,!=2.2.*,!=2.3.*,!=2.4.*,!=2.5.*,!=2.6.*,!=2.7.*,!=2.8.*,!=2.9.*,<3.0.0dev,>=1.34.1->google-api-core[grpc]!=2.0.*,!=2.1.*,!=2.10.*,!=2.2.*,!=2.3.*,!=2.4.*,!=2.5.*,!=2.6.*,!=2.7.*,!=2.8.*,!=2.9.*,<3.0.0dev,>=1.34.1->google-cloud-discoveryengine) (1.26.19)\n",
      "Requirement already satisfied: certifi>=2017.4.17 in /opt/conda/lib/python3.10/site-packages (from requests<3.0.0.dev0,>=2.18.0->google-api-core!=2.0.*,!=2.1.*,!=2.10.*,!=2.2.*,!=2.3.*,!=2.4.*,!=2.5.*,!=2.6.*,!=2.7.*,!=2.8.*,!=2.9.*,<3.0.0dev,>=1.34.1->google-api-core[grpc]!=2.0.*,!=2.1.*,!=2.10.*,!=2.2.*,!=2.3.*,!=2.4.*,!=2.5.*,!=2.6.*,!=2.7.*,!=2.8.*,!=2.9.*,<3.0.0dev,>=1.34.1->google-cloud-discoveryengine) (2024.7.4)\n"
     ]
    }
   ],
   "source": [
    "# Install the packages\n",
    "! pip install --upgrade --quiet google-cloud-aiplatform\n",
    "! pip install google-cloud-discoveryengine"
   ]
  },
  {
   "cell_type": "code",
   "execution_count": 2,
   "id": "cea5b2d8-df8c-47b4-af51-78447c38326f",
   "metadata": {
    "tags": []
   },
   "outputs": [],
   "source": [
    "PROJECT_ID = \"cacafly-ml-specialization\"  # @param {type:\"string\"}\n",
    "LOCATION = \"us-central1\"  # @param {type:\"string\"}"
   ]
  },
  {
   "cell_type": "code",
   "execution_count": 3,
   "id": "5243f385-365c-4b5c-ad32-ac973997c990",
   "metadata": {
    "tags": []
   },
   "outputs": [],
   "source": [
    "import vertexai\n",
    "from vertexai.language_models import CodeGenerationModel\n",
    "\n",
    "vertexai.init(project=PROJECT_ID, location=LOCATION)"
   ]
  },
  {
   "cell_type": "code",
   "execution_count": 4,
   "id": "66d4d5fd-4385-4174-9cc6-8744407aabc8",
   "metadata": {
    "tags": []
   },
   "outputs": [],
   "source": [
    "import sys\n",
    "import json\n",
    "import os\n",
    "import vertexai\n",
    "from typing import Dict, List, Optional, Tuple\n",
    "from google.cloud import discoveryengine\n",
    "from google.protobuf.json_format import MessageToDict"
   ]
  },
  {
   "cell_type": "code",
   "execution_count": 5,
   "id": "d6857bc3-ffac-479a-916d-a34295400bcb",
   "metadata": {
    "tags": []
   },
   "outputs": [],
   "source": [
    "search_engine_id = \"demo3_1733212957986\"\n",
    "serving_config_id = \"default_config\""
   ]
  },
  {
   "cell_type": "code",
   "execution_count": 6,
   "id": "6ee2f500-646f-48c7-a08e-a8e5297f1f0d",
   "metadata": {
    "tags": []
   },
   "outputs": [],
   "source": [
    "# !pip show numpy\n",
    "# !pip show pandas\n",
    "# !pip install -U \"scikit-learn\" --force-reinstall\n"
   ]
  },
  {
   "cell_type": "code",
   "execution_count": 7,
   "id": "369ad94a-32b7-4bb2-a4f8-524c449cc75a",
   "metadata": {
    "tags": []
   },
   "outputs": [],
   "source": [
    "\n",
    "import tarfile\n",
    "\n",
    "import numpy as np \n",
    "import pandas as pd \n",
    "from sklearn.datasets import load_files\n",
    "import nltk \n",
    "from nltk.corpus import stopwords"
   ]
  },
  {
   "cell_type": "code",
   "execution_count": 8,
   "id": "0a7d5eb3-b3b8-4f16-86b0-0be41f363f7c",
   "metadata": {
    "tags": []
   },
   "outputs": [],
   "source": [
    "movie_data = load_files('txt_sentoken/')\n",
    "X , y = movie_data.data , movie_data.target"
   ]
  },
  {
   "cell_type": "code",
   "execution_count": 18,
   "id": "80a0554c-9af2-4bc2-a12c-0505430c4d42",
   "metadata": {
    "tags": []
   },
   "outputs": [],
   "source": [
    "import json\n",
    "\n",
    "with open(\"input_with_name_comment.jsonl\", \"w\", encoding=\"utf-8\") as f:\n",
    "    for i, text in enumerate(X, start=1):\n",
    "        prompt = (\n",
    "            \"Please remove all names of people and works of art (like movies, books, songs) \"\n",
    "            \"from the following text. Keep grammar natural.\\n\\n\"\n",
    "            f\"Original:\\n{text}\\nCleaned:\"\n",
    "        )\n",
    "        json_line = {\n",
    "            \"id\": i,\n",
    "            \"request\": {\n",
    "                \"contents\": [\n",
    "                    {\n",
    "                        \"parts\": {\n",
    "                            \"text\": prompt\n",
    "                        },\n",
    "                        \"role\": \"user\"\n",
    "                    }\n",
    "                ]\n",
    "            }\n",
    "        }\n",
    "        json.dump(json_line, f, ensure_ascii=False)\n",
    "        f.write(\"\\n\")\n"
   ]
  },
  {
   "cell_type": "code",
   "execution_count": null,
   "id": "4e8b6471-5be1-45aa-bb59-edb27ccc33d5",
   "metadata": {
    "tags": []
   },
   "outputs": [],
   "source": []
  },
  {
   "cell_type": "code",
   "execution_count": 19,
   "id": "a90c4ed4-5533-4f25-898d-1f4f1c708698",
   "metadata": {
    "tags": []
   },
   "outputs": [
    {
     "name": "stdout",
     "output_type": "stream",
     "text": [
      "Job name: projects/765271398193/locations/us-central1/batchPredictionJobs/7164113081608437760\n",
      "Job state: JOB_STATE_PENDING\n",
      "Job state: JOB_STATE_RUNNING\n",
      "Job state: JOB_STATE_RUNNING\n",
      "Job state: JOB_STATE_RUNNING\n",
      "Job state: JOB_STATE_RUNNING\n",
      "Job state: JOB_STATE_RUNNING\n",
      "Job state: JOB_STATE_RUNNING\n",
      "Job state: JOB_STATE_RUNNING\n",
      "Job state: JOB_STATE_RUNNING\n",
      "Job state: JOB_STATE_RUNNING\n",
      "Job state: JOB_STATE_SUCCEEDED\n"
     ]
    }
   ],
   "source": [
    "import time\n",
    "\n",
    "from google import genai\n",
    "from google.genai.types import CreateBatchJobConfig, JobState, HttpOptions\n",
    "\n",
    "# client = genai.Client(http_options=HttpOptions(api_version=\"v1\"))\n",
    "client = genai.Client(\n",
    "    vertexai=True,  # ✅ 告訴它你是用 Vertex AI 而不是 api_key\n",
    "    project=\"cacafly-ml-specialization\",        # ✅ GCP 專案 ID\n",
    "    location=\"us-central1\",               # ✅ Vertex AI 支援的地區\n",
    "    http_options=HttpOptions(api_version=\"v1\")\n",
    ")\n",
    "# TODO(developer): Update and un-comment below line\n",
    "output_uri = \"gs://cacafly-ml-specialization-dataset/movie_review/\"\n",
    "\n",
    "# See the documentation: https://googleapis.github.io/python-genai/genai.html#genai.batches.Batches.create\n",
    "job = client.batches.create(\n",
    "    model=\"gemini-2.0-flash-001\",\n",
    "    # Source link: https://storage.cloud.google.com/cloud-samples-data/batch/prompt_for_batch_gemini_predict.jsonl\n",
    "    src=\"gs://cacafly-ml-specialization-dataset/movie_review/input_with_name_comment.jsonl\",\n",
    "    # src=\"gs://cloud-samples-data/batch/prompt_for_batch_gemini_predict.jsonl\",\n",
    "    config=CreateBatchJobConfig(dest=output_uri),\n",
    ")\n",
    "print(f\"Job name: {job.name}\")\n",
    "print(f\"Job state: {job.state}\")\n",
    "# Example response:\n",
    "# Job name: projects/%PROJECT_ID%/locations/us-central1/batchPredictionJobs/9876453210000000000\n",
    "# Job state: JOB_STATE_PENDING\n",
    "\n",
    "# See the documentation: https://googleapis.github.io/python-genai/genai.html#genai.types.BatchJob\n",
    "completed_states = {\n",
    "    JobState.JOB_STATE_SUCCEEDED,\n",
    "    JobState.JOB_STATE_FAILED,\n",
    "    JobState.JOB_STATE_CANCELLED,\n",
    "    JobState.JOB_STATE_PAUSED,\n",
    "}\n",
    "\n",
    "while job.state not in completed_states:\n",
    "    time.sleep(30)\n",
    "    job = client.batches.get(name=job.name)\n",
    "    print(f\"Job state: {job.state}\")\n",
    "# Example response:\n",
    "# Job state: JOB_STATE_PENDING\n",
    "# Job state: JOB_STATE_RUNNING\n",
    "# Job state: JOB_STATE_RUNNING\n",
    "# ...\n",
    "# Job state: JOB_STATE_SUCCEEDED"
   ]
  }
 ],
 "metadata": {
  "environment": {
   "kernel": "python3",
   "name": "tf2-gpu.2-14.m124",
   "type": "gcloud",
   "uri": "us-docker.pkg.dev/deeplearning-platform-release/gcr.io/tf2-gpu.2-14:m124"
  },
  "kernelspec": {
   "display_name": "Python 3 (Local)",
   "language": "python",
   "name": "python3"
  },
  "language_info": {
   "codemirror_mode": {
    "name": "ipython",
    "version": 3
   },
   "file_extension": ".py",
   "mimetype": "text/x-python",
   "name": "python",
   "nbconvert_exporter": "python",
   "pygments_lexer": "ipython3",
   "version": "3.10.14"
  }
 },
 "nbformat": 4,
 "nbformat_minor": 5
}
